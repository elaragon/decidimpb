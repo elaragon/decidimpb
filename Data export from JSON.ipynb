{
 "cells": [
  {
   "cell_type": "code",
   "execution_count": null,
   "metadata": {},
   "outputs": [],
   "source": [
    "import json\n",
    "import os\n",
    "import glob\n",
    "import datetime"
   ]
  },
  {
   "cell_type": "code",
   "execution_count": null,
   "metadata": {},
   "outputs": [],
   "source": [
    "path = './processes/'"
   ]
  },
  {
   "cell_type": "code",
   "execution_count": null,
   "metadata": {},
   "outputs": [],
   "source": [
    "all_out = []\n",
    "all_keys = []\n",
    "\n",
    "for f in glob.glob( path + '*.json'):\n",
    "    data = json.load( open( f ) )\n",
    "    data = data['data']['participatoryProcess']\n",
    "    \n",
    "    try:\n",
    "    \n",
    "        out = {}\n",
    "        \n",
    "        if data['startDate'] != None:\n",
    "            start_date = datetime.datetime.strptime( data['startDate'], '%Y-%m-%d' )\n",
    "            end_date = datetime.datetime.strptime( data['endDate'], '%Y-%m-%d' )\n",
    "\n",
    "            out['ongoing'] = end_date > datetime.datetime.now()\n",
    "            out['length_days'] = ( end_date - start_date ).days\n",
    "\n",
    "        ## bold assumption, if not defined it does not exists\n",
    "        out['show_metrics'] = data['showMetrics'] if 'showMetrics' in data else False\n",
    "        out['scopes_enabled'] = data['scopesEnabled'] or False\n",
    "        \n",
    "        out['has_hero_image'] = len( data['heroImage'].strip() ) > 0\n",
    "        out['has_banner_image'] = len( data['bannerImage'].strip() ) > 0\n",
    "        \n",
    "        out['count_of_categories'] = len( data['categories'] ) if 'categories' in data else None\n",
    "        out['count_of_steps'] = len( data['steps'] ) if 'steps' in data else None\n",
    "        \n",
    "        ## metrics\n",
    "        if data['stats'] != None:\n",
    "            total_items = 0\n",
    "            for d in data['stats']:\n",
    "                out[ d['name'] ] = d['value']\n",
    "                total_items += d['value']\n",
    "                \n",
    "            out['total_items'] = total_items\n",
    "        \n",
    "        for i, component in enumerate( data['components'] ):\n",
    "            out['component_' + str(i+1) ] = component['__typename']\n",
    "        \n",
    "        out['id'] = data['id']\n",
    "        out['slug'] = data['slug']\n",
    "        \n",
    "        all_out.append( out )\n",
    "        all_keys += list( out.keys() )\n",
    "        \n",
    "    except Exception as error:\n",
    "        print( error )\n",
    "        print( f )"
   ]
  },
  {
   "cell_type": "code",
   "execution_count": null,
   "metadata": {},
   "outputs": [],
   "source": [
    "## CSV output\n",
    "import csv\n",
    "\n",
    "all_keys = set( all_keys )\n",
    "\n",
    "fout = open('extracted.csv', 'w') \n",
    "writer = csv.DictWriter( fout , fieldnames=all_keys )\n",
    "writer.writeheader()\n",
    "\n",
    "for row in all_out:\n",
    "    writer.writerow( row )\n",
    "    \n",
    "fout.close()"
   ]
  },
  {
   "cell_type": "code",
   "execution_count": null,
   "metadata": {},
   "outputs": [],
   "source": [
    "## JSON output\n",
    "\n",
    "import json\n",
    "\n",
    "json.dump( all_out, open(\"extracted.json\", \"w\") )"
   ]
  },
  {
   "cell_type": "code",
   "execution_count": null,
   "metadata": {},
   "outputs": [],
   "source": [
    "for f in glob.glob( path + '*.json'):\n",
    "    data = json.load( open( f ) )\n",
    "    data = data['data']['participatoryProcess']\n",
    "    \n",
    "    try:\n",
    "        print( data['participatoryScope'] )\n",
    "    except:\n",
    "        pass"
   ]
  },
  {
   "cell_type": "code",
   "execution_count": null,
   "metadata": {},
   "outputs": [],
   "source": [
    "for f in glob.glob( path + '*.json'):\n",
    "    data = json.load( open( f ) )\n",
    "    data = data['data']['participatoryProcess']\n",
    "    \n",
    "    try:\n",
    "        print( data['announcement'] )\n",
    "    except Exception as error:\n",
    "        print( error )\n",
    "        pass"
   ]
  },
  {
   "cell_type": "code",
   "execution_count": null,
   "metadata": {},
   "outputs": [],
   "source": [
    "for f in glob.glob( path + '*.json'):\n",
    "    data = json.load( open( f ) )\n",
    "    data = data['data']['participatoryProcess']\n",
    "    \n",
    "    try:\n",
    "        print( data['target'] )\n",
    "    except:\n",
    "        pass"
   ]
  },
  {
   "cell_type": "code",
   "execution_count": null,
   "metadata": {},
   "outputs": [],
   "source": [
    "for f in glob.glob( path + '*.json'):\n",
    "    data = json.load( open( f ) )\n",
    "    data = data['data']['participatoryProcess']\n",
    "    \n",
    "    try:\n",
    "        print( data['id'], data['slug'] )\n",
    "    except:\n",
    "        pass"
   ]
  },
  {
   "cell_type": "code",
   "execution_count": null,
   "metadata": {},
   "outputs": [],
   "source": []
  }
 ],
 "metadata": {
  "kernelspec": {
   "display_name": "Python 3",
   "language": "python",
   "name": "python3"
  },
  "language_info": {
   "codemirror_mode": {
    "name": "ipython",
    "version": 3
   },
   "file_extension": ".py",
   "mimetype": "text/x-python",
   "name": "python",
   "nbconvert_exporter": "python",
   "pygments_lexer": "ipython3",
   "version": "3.8.6"
  }
 },
 "nbformat": 4,
 "nbformat_minor": 4
}
