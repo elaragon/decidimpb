{
 "cells": [
  {
   "cell_type": "code",
   "execution_count": null,
   "metadata": {},
   "outputs": [],
   "source": [
    "import requests\n",
    "import csv\n",
    "import dateparser\n",
    "import collections"
   ]
  },
  {
   "cell_type": "code",
   "execution_count": null,
   "metadata": {},
   "outputs": [],
   "source": [
    "## data is here\n",
    "## https://docs.google.com/spreadsheets/d/1bMzc1YWJpO1Humx-owmdha-kI-aQ8EH83YJGiWMEv4U/edit?ts=6093d958#gid=868049820\n",
    "\n",
    "data_url = 'https://docs.google.com/spreadsheets/d/e/2PACX-1vRJL-M4_V-uYdvw546V6VqvgF8eTMKBedrhjEyyXqSfWqed-6pU8N6K9SuhMi2SGcQ3rEx2uBoTjn7R/pub?gid=868049820&single=true&output=csv'\n",
    "data = requests.get( data_url, stream=True )\n",
    "data = list( csv.DictReader( data.content.decode('utf-8').splitlines() ) )"
   ]
  },
  {
   "cell_type": "code",
   "execution_count": null,
   "metadata": {},
   "outputs": [],
   "source": [
    "start_dates = {}"
   ]
  },
  {
   "cell_type": "code",
   "execution_count": null,
   "metadata": {},
   "outputs": [],
   "source": [
    "steps = collections.defaultdict( list )\n",
    "\n",
    "for entry in data:\n",
    "    \n",
    "    try: \n",
    "        start, end = entry['step_dates'].split(' - ')\n",
    "\n",
    "        start = dateparser.parse( start, settings={'DATE_ORDER': 'DMY'} )\n",
    "        end = dateparser.parse( end, settings={'DATE_ORDER': 'DMY'} )\n",
    "\n",
    "        step_length = (end - start).days\n",
    "        \n",
    "        steps[ entry['step_name'].lower() ].append( step_length )\n",
    "        \n",
    "        if entry['process'] not in start_dates:\n",
    "            start_dates[ entry['process'] ] = start\n",
    "        \n",
    "    except:\n",
    "        pass ## some steps are not complete days"
   ]
  },
  {
   "cell_type": "code",
   "execution_count": null,
   "metadata": {},
   "outputs": [],
   "source": [
    "out = open('step_length.csv', 'w')\n",
    "\n",
    "out.write('step,length\\n')\n",
    "\n",
    "for key, values in steps.items():\n",
    "    \n",
    "    for value in values:\n",
    "        out.write( key + ',' + str(value) + '\\n' )\n",
    "        \n",
    "out.close()"
   ]
  },
  {
   "cell_type": "code",
   "execution_count": null,
   "metadata": {},
   "outputs": [],
   "source": [
    "## approximate starting date\n",
    "for d in start_dates.values():\n",
    "    print( d )"
   ]
  },
  {
   "cell_type": "markdown",
   "metadata": {},
   "source": [
    "## Hidden steps"
   ]
  },
  {
   "cell_type": "code",
   "execution_count": null,
   "metadata": {},
   "outputs": [],
   "source": [
    "import collections\n",
    "import csv\n",
    "import dateparser"
   ]
  },
  {
   "cell_type": "code",
   "execution_count": null,
   "metadata": {},
   "outputs": [],
   "source": [
    "process = collections.defaultdict( list )\n",
    "\n",
    "for entry in data:\n",
    "    \n",
    "    try: \n",
    "        start, end = entry['step_dates'].split(' - ')\n",
    "\n",
    "        start = dateparser.parse( start, settings={'DATE_ORDER': 'DMY'} )\n",
    "        end = dateparser.parse( end, settings={'DATE_ORDER': 'DMY'} )\n",
    "        name = entry['step_name']\n",
    "        \n",
    "        process[ entry['process'] ].append( {\n",
    "            'name': name,\n",
    "            'start': start,\n",
    "            'end': end\n",
    "        })\n",
    "            \n",
    "    except:\n",
    "        pass ## some steps are not complete days"
   ]
  },
  {
   "cell_type": "code",
   "execution_count": null,
   "metadata": {},
   "outputs": [],
   "source": [
    "def compute_difference( step ):\n",
    "    \n",
    "    if step['end'] == None: ## manage cases where step does not have ending time\n",
    "        return 0\n",
    "    \n",
    "    diff = step['end'] - step['start']\n",
    "    \n",
    "    return diff.days"
   ]
  },
  {
   "cell_type": "code",
   "execution_count": null,
   "metadata": {},
   "outputs": [],
   "source": [
    "for instance, steps in process.items():\n",
    "    \n",
    "    print( instance )\n",
    "    \n",
    "    prev = steps[0]\n",
    "    \n",
    "    for step in steps[1:]:\n",
    "        \n",
    "        if not prev['end']:\n",
    "            break ## sometimes we do not have exact ending times for steps\n",
    "        \n",
    "        gap = ( step['start'] - prev['end'] ).days\n",
    "        \n",
    "        if gap > 0:\n",
    "            \n",
    "            prev_diff = compute_difference( prev )\n",
    "            step_diff = compute_difference( step )\n",
    "            \n",
    "            print( prev['name'], prev_diff , '>', step['name'], step_diff , '; gap', gap )\n",
    "            \n",
    "        prev = step"
   ]
  },
  {
   "cell_type": "code",
   "execution_count": null,
   "metadata": {},
   "outputs": [],
   "source": []
  }
 ],
 "metadata": {
  "kernelspec": {
   "display_name": "Python 3",
   "language": "python",
   "name": "python3"
  },
  "language_info": {
   "codemirror_mode": {
    "name": "ipython",
    "version": 3
   },
   "file_extension": ".py",
   "mimetype": "text/x-python",
   "name": "python",
   "nbconvert_exporter": "python",
   "pygments_lexer": "ipython3",
   "version": "3.9.4"
  }
 },
 "nbformat": 4,
 "nbformat_minor": 4
}
